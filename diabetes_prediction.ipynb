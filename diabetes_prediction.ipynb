{
  "cells": [
    {
      "cell_type": "markdown",
      "id": "7a24e0a8",
      "metadata": {
        "id": "7a24e0a8"
      },
      "source": [
        "<h1>diabetes prediction using Decision tree classification</h1>"
      ]
    },
    {
      "cell_type": "markdown",
      "id": "b25477df",
      "metadata": {
        "id": "b25477df"
      },
      "source": [
        "<h3>Decision tree Assumptions</h3>\n",
        " <h5>1.Decision trees can handle high dimensional data with good accuracy.<br>\n",
        "    2. Entropy is using as criterion instead of gini<br>\n",
        "    3. Let the max_depth value is equal to 3</h5>\n",
        "    "
      ]
    },
    {
      "cell_type": "markdown",
      "id": "aa01db19",
      "metadata": {
        "id": "aa01db19"
      },
      "source": [
        "<h3>Loaded required Library</h3>\n",
        "\n",
        "> Indented block\n",
        "\n"
      ]
    },
    {
      "cell_type": "code",
      "execution_count": null,
      "id": "a4acadb5",
      "metadata": {
        "id": "a4acadb5"
      },
      "outputs": [],
      "source": [
        "#Load libraries\n",
        "import pandas as pd\n",
        "from sklearn.tree import DecisionTreeClassifier\n",
        "from sklearn.model_selection import train_test_split\n",
        "from sklearn import metrics"
      ]
    },
    {
      "cell_type": "markdown",
      "id": "de45b21c",
      "metadata": {
        "id": "de45b21c"
      },
      "source": [
        "<h3>Load the dataset and prepare the data</h3>"
      ]
    },
    {
      "cell_type": "code",
      "execution_count": null,
      "id": "a1a791e8",
      "metadata": {
        "id": "a1a791e8"
      },
      "outputs": [],
      "source": [
        "col_names = ['pregnant','glucose', 'bp','skin','insulin','bmi','pedigree','age','label']\n",
        "# Since no column name given for the dataset,\n",
        "# We will write the column name ina python list and define it as a variable.\n",
        "df=pd.read_csv(\"diabetes (3).csv\",header=None, names =col_names)\n",
        "# importing csv file and giving column names for csv file using col_names variable"
      ]
    },
    {
      "cell_type": "markdown",
      "id": "c35475a5",
      "metadata": {
        "id": "c35475a5"
      },
      "source": [
        "<h3>Data Analysis"
      ]
    },
    {
      "cell_type": "markdown",
      "id": "c23415ec",
      "metadata": {
        "id": "c23415ec"
      },
      "source": [
        "<h4>head-tail analysis is a machine learnning technique that revels operortunities \n",
        "to boost conversions and  a better customer experience"
      ]
    },
    {
      "cell_type": "code",
      "execution_count": null,
      "id": "235545fa",
      "metadata": {
        "id": "235545fa",
        "outputId": "b3af8292-60de-4b78-c1eb-831c39e38285"
      },
      "outputs": [
        {
          "data": {
            "text/html": [
              "<div>\n",
              "<style scoped>\n",
              "    .dataframe tbody tr th:only-of-type {\n",
              "        vertical-align: middle;\n",
              "    }\n",
              "\n",
              "    .dataframe tbody tr th {\n",
              "        vertical-align: top;\n",
              "    }\n",
              "\n",
              "    .dataframe thead th {\n",
              "        text-align: right;\n",
              "    }\n",
              "</style>\n",
              "<table border=\"1\" class=\"dataframe\">\n",
              "  <thead>\n",
              "    <tr style=\"text-align: right;\">\n",
              "      <th></th>\n",
              "      <th>pregnant</th>\n",
              "      <th>glucose</th>\n",
              "      <th>bp</th>\n",
              "      <th>skin</th>\n",
              "      <th>insulin</th>\n",
              "      <th>bmi</th>\n",
              "      <th>pedigree</th>\n",
              "      <th>age</th>\n",
              "      <th>label</th>\n",
              "    </tr>\n",
              "  </thead>\n",
              "  <tbody>\n",
              "    <tr>\n",
              "      <th>0</th>\n",
              "      <td>6</td>\n",
              "      <td>148</td>\n",
              "      <td>72</td>\n",
              "      <td>35</td>\n",
              "      <td>0</td>\n",
              "      <td>33.6</td>\n",
              "      <td>0.627</td>\n",
              "      <td>50</td>\n",
              "      <td>1</td>\n",
              "    </tr>\n",
              "    <tr>\n",
              "      <th>1</th>\n",
              "      <td>1</td>\n",
              "      <td>85</td>\n",
              "      <td>66</td>\n",
              "      <td>29</td>\n",
              "      <td>0</td>\n",
              "      <td>26.6</td>\n",
              "      <td>0.351</td>\n",
              "      <td>31</td>\n",
              "      <td>0</td>\n",
              "    </tr>\n",
              "    <tr>\n",
              "      <th>2</th>\n",
              "      <td>8</td>\n",
              "      <td>183</td>\n",
              "      <td>64</td>\n",
              "      <td>0</td>\n",
              "      <td>0</td>\n",
              "      <td>23.3</td>\n",
              "      <td>0.672</td>\n",
              "      <td>32</td>\n",
              "      <td>1</td>\n",
              "    </tr>\n",
              "    <tr>\n",
              "      <th>3</th>\n",
              "      <td>1</td>\n",
              "      <td>89</td>\n",
              "      <td>66</td>\n",
              "      <td>23</td>\n",
              "      <td>94</td>\n",
              "      <td>28.1</td>\n",
              "      <td>0.167</td>\n",
              "      <td>21</td>\n",
              "      <td>0</td>\n",
              "    </tr>\n",
              "    <tr>\n",
              "      <th>4</th>\n",
              "      <td>0</td>\n",
              "      <td>137</td>\n",
              "      <td>40</td>\n",
              "      <td>35</td>\n",
              "      <td>168</td>\n",
              "      <td>43.1</td>\n",
              "      <td>2.288</td>\n",
              "      <td>33</td>\n",
              "      <td>1</td>\n",
              "    </tr>\n",
              "  </tbody>\n",
              "</table>\n",
              "</div>"
            ],
            "text/plain": [
              "   pregnant  glucose  bp  skin  insulin   bmi  pedigree  age  label\n",
              "0         6      148  72    35        0  33.6     0.627   50      1\n",
              "1         1       85  66    29        0  26.6     0.351   31      0\n",
              "2         8      183  64     0        0  23.3     0.672   32      1\n",
              "3         1       89  66    23       94  28.1     0.167   21      0\n",
              "4         0      137  40    35      168  43.1     2.288   33      1"
            ]
          },
          "execution_count": 5,
          "metadata": {},
          "output_type": "execute_result"
        }
      ],
      "source": [
        "df.head()\n",
        "# head function will returns first 5 records when we called it accepts only one argument."
      ]
    },
    {
      "cell_type": "code",
      "execution_count": null,
      "id": "41861699",
      "metadata": {
        "id": "41861699",
        "outputId": "e0d4a8a9-49bb-4908-ac87-33eaea4a815b"
      },
      "outputs": [
        {
          "data": {
            "text/html": [
              "<div>\n",
              "<style scoped>\n",
              "    .dataframe tbody tr th:only-of-type {\n",
              "        vertical-align: middle;\n",
              "    }\n",
              "\n",
              "    .dataframe tbody tr th {\n",
              "        vertical-align: top;\n",
              "    }\n",
              "\n",
              "    .dataframe thead th {\n",
              "        text-align: right;\n",
              "    }\n",
              "</style>\n",
              "<table border=\"1\" class=\"dataframe\">\n",
              "  <thead>\n",
              "    <tr style=\"text-align: right;\">\n",
              "      <th></th>\n",
              "      <th>pregnant</th>\n",
              "      <th>glucose</th>\n",
              "      <th>bp</th>\n",
              "      <th>skin</th>\n",
              "      <th>insulin</th>\n",
              "      <th>bmi</th>\n",
              "      <th>pedigree</th>\n",
              "      <th>age</th>\n",
              "      <th>label</th>\n",
              "    </tr>\n",
              "  </thead>\n",
              "  <tbody>\n",
              "    <tr>\n",
              "      <th>14261</th>\n",
              "      <td>12</td>\n",
              "      <td>172</td>\n",
              "      <td>86</td>\n",
              "      <td>28</td>\n",
              "      <td>170</td>\n",
              "      <td>21.75</td>\n",
              "      <td>0.824</td>\n",
              "      <td>44</td>\n",
              "      <td>1</td>\n",
              "    </tr>\n",
              "    <tr>\n",
              "      <th>14262</th>\n",
              "      <td>12</td>\n",
              "      <td>65</td>\n",
              "      <td>128</td>\n",
              "      <td>28</td>\n",
              "      <td>118</td>\n",
              "      <td>25.32</td>\n",
              "      <td>0.832</td>\n",
              "      <td>35</td>\n",
              "      <td>1</td>\n",
              "    </tr>\n",
              "    <tr>\n",
              "      <th>14263</th>\n",
              "      <td>10</td>\n",
              "      <td>91</td>\n",
              "      <td>64</td>\n",
              "      <td>25</td>\n",
              "      <td>241</td>\n",
              "      <td>28.16</td>\n",
              "      <td>1.218</td>\n",
              "      <td>40</td>\n",
              "      <td>1</td>\n",
              "    </tr>\n",
              "    <tr>\n",
              "      <th>14264</th>\n",
              "      <td>3</td>\n",
              "      <td>116</td>\n",
              "      <td>131</td>\n",
              "      <td>28</td>\n",
              "      <td>230</td>\n",
              "      <td>32.06</td>\n",
              "      <td>1.577</td>\n",
              "      <td>40</td>\n",
              "      <td>0</td>\n",
              "    </tr>\n",
              "    <tr>\n",
              "      <th>14265</th>\n",
              "      <td>11</td>\n",
              "      <td>90</td>\n",
              "      <td>73</td>\n",
              "      <td>27</td>\n",
              "      <td>257</td>\n",
              "      <td>22.48</td>\n",
              "      <td>0.392</td>\n",
              "      <td>26</td>\n",
              "      <td>1</td>\n",
              "    </tr>\n",
              "  </tbody>\n",
              "</table>\n",
              "</div>"
            ],
            "text/plain": [
              "       pregnant  glucose   bp  skin  insulin    bmi  pedigree  age  label\n",
              "14261        12      172   86    28      170  21.75     0.824   44      1\n",
              "14262        12       65  128    28      118  25.32     0.832   35      1\n",
              "14263        10       91   64    25      241  28.16     1.218   40      1\n",
              "14264         3      116  131    28      230  32.06     1.577   40      0\n",
              "14265        11       90   73    27      257  22.48     0.392   26      1"
            ]
          },
          "execution_count": 6,
          "metadata": {},
          "output_type": "execute_result"
        }
      ],
      "source": [
        "df.tail()\n",
        "# tail function will returns last 5 records when we call. it accepts only one argument."
      ]
    },
    {
      "cell_type": "code",
      "execution_count": null,
      "id": "d23e7815",
      "metadata": {
        "id": "d23e7815",
        "outputId": "dc9b1367-c4a3-463b-ed7e-aa31756c21a1"
      },
      "outputs": [
        {
          "data": {
            "text/html": [
              "<div>\n",
              "<style scoped>\n",
              "    .dataframe tbody tr th:only-of-type {\n",
              "        vertical-align: middle;\n",
              "    }\n",
              "\n",
              "    .dataframe tbody tr th {\n",
              "        vertical-align: top;\n",
              "    }\n",
              "\n",
              "    .dataframe thead th {\n",
              "        text-align: right;\n",
              "    }\n",
              "</style>\n",
              "<table border=\"1\" class=\"dataframe\">\n",
              "  <thead>\n",
              "    <tr style=\"text-align: right;\">\n",
              "      <th></th>\n",
              "      <th>pregnant</th>\n",
              "      <th>glucose</th>\n",
              "      <th>bp</th>\n",
              "      <th>skin</th>\n",
              "      <th>insulin</th>\n",
              "      <th>bmi</th>\n",
              "      <th>pedigree</th>\n",
              "      <th>age</th>\n",
              "      <th>label</th>\n",
              "    </tr>\n",
              "  </thead>\n",
              "  <tbody>\n",
              "    <tr>\n",
              "      <th>count</th>\n",
              "      <td>14266.000000</td>\n",
              "      <td>14266.000000</td>\n",
              "      <td>14266.000000</td>\n",
              "      <td>14266.000000</td>\n",
              "      <td>14266.000000</td>\n",
              "      <td>14266.000000</td>\n",
              "      <td>14266.000000</td>\n",
              "      <td>14266.000000</td>\n",
              "      <td>14266.000000</td>\n",
              "    </tr>\n",
              "    <tr>\n",
              "      <th>mean</th>\n",
              "      <td>6.312912</td>\n",
              "      <td>115.273728</td>\n",
              "      <td>96.779966</td>\n",
              "      <td>24.556147</td>\n",
              "      <td>145.140123</td>\n",
              "      <td>26.955546</td>\n",
              "      <td>0.944349</td>\n",
              "      <td>39.361559</td>\n",
              "      <td>0.481214</td>\n",
              "    </tr>\n",
              "    <tr>\n",
              "      <th>std</th>\n",
              "      <td>3.531354</td>\n",
              "      <td>40.919108</td>\n",
              "      <td>24.636171</td>\n",
              "      <td>9.930362</td>\n",
              "      <td>92.352572</td>\n",
              "      <td>6.003514</td>\n",
              "      <td>0.579720</td>\n",
              "      <td>12.044924</td>\n",
              "      <td>0.499664</td>\n",
              "    </tr>\n",
              "    <tr>\n",
              "      <th>min</th>\n",
              "      <td>0.000000</td>\n",
              "      <td>0.000000</td>\n",
              "      <td>0.000000</td>\n",
              "      <td>0.000000</td>\n",
              "      <td>0.000000</td>\n",
              "      <td>0.000000</td>\n",
              "      <td>0.000000</td>\n",
              "      <td>20.000000</td>\n",
              "      <td>0.000000</td>\n",
              "    </tr>\n",
              "    <tr>\n",
              "      <th>25%</th>\n",
              "      <td>3.000000</td>\n",
              "      <td>81.000000</td>\n",
              "      <td>76.000000</td>\n",
              "      <td>17.000000</td>\n",
              "      <td>66.000000</td>\n",
              "      <td>22.012500</td>\n",
              "      <td>0.423000</td>\n",
              "      <td>28.000000</td>\n",
              "      <td>0.000000</td>\n",
              "    </tr>\n",
              "    <tr>\n",
              "      <th>50%</th>\n",
              "      <td>6.000000</td>\n",
              "      <td>115.000000</td>\n",
              "      <td>95.000000</td>\n",
              "      <td>25.000000</td>\n",
              "      <td>143.000000</td>\n",
              "      <td>26.970000</td>\n",
              "      <td>0.905000</td>\n",
              "      <td>39.000000</td>\n",
              "      <td>0.000000</td>\n",
              "    </tr>\n",
              "    <tr>\n",
              "      <th>75%</th>\n",
              "      <td>9.000000</td>\n",
              "      <td>150.000000</td>\n",
              "      <td>118.000000</td>\n",
              "      <td>33.000000</td>\n",
              "      <td>223.000000</td>\n",
              "      <td>31.710000</td>\n",
              "      <td>1.447000</td>\n",
              "      <td>50.000000</td>\n",
              "      <td>1.000000</td>\n",
              "    </tr>\n",
              "    <tr>\n",
              "      <th>max</th>\n",
              "      <td>17.000000</td>\n",
              "      <td>199.000000</td>\n",
              "      <td>140.000000</td>\n",
              "      <td>99.000000</td>\n",
              "      <td>846.000000</td>\n",
              "      <td>67.100000</td>\n",
              "      <td>2.420000</td>\n",
              "      <td>81.000000</td>\n",
              "      <td>1.000000</td>\n",
              "    </tr>\n",
              "  </tbody>\n",
              "</table>\n",
              "</div>"
            ],
            "text/plain": [
              "           pregnant       glucose            bp          skin       insulin  \\\n",
              "count  14266.000000  14266.000000  14266.000000  14266.000000  14266.000000   \n",
              "mean       6.312912    115.273728     96.779966     24.556147    145.140123   \n",
              "std        3.531354     40.919108     24.636171      9.930362     92.352572   \n",
              "min        0.000000      0.000000      0.000000      0.000000      0.000000   \n",
              "25%        3.000000     81.000000     76.000000     17.000000     66.000000   \n",
              "50%        6.000000    115.000000     95.000000     25.000000    143.000000   \n",
              "75%        9.000000    150.000000    118.000000     33.000000    223.000000   \n",
              "max       17.000000    199.000000    140.000000     99.000000    846.000000   \n",
              "\n",
              "                bmi      pedigree           age         label  \n",
              "count  14266.000000  14266.000000  14266.000000  14266.000000  \n",
              "mean      26.955546      0.944349     39.361559      0.481214  \n",
              "std        6.003514      0.579720     12.044924      0.499664  \n",
              "min        0.000000      0.000000     20.000000      0.000000  \n",
              "25%       22.012500      0.423000     28.000000      0.000000  \n",
              "50%       26.970000      0.905000     39.000000      0.000000  \n",
              "75%       31.710000      1.447000     50.000000      1.000000  \n",
              "max       67.100000      2.420000     81.000000      1.000000  "
            ]
          },
          "execution_count": 7,
          "metadata": {},
          "output_type": "execute_result"
        }
      ],
      "source": [
        "df.describe()\n",
        "# describe returns the statistical summary of the Series and DataFrame."
      ]
    },
    {
      "cell_type": "markdown",
      "id": "817f4ce9",
      "metadata": {
        "id": "817f4ce9"
      },
      "source": [
        "<h3>Split data"
      ]
    },
    {
      "cell_type": "markdown",
      "id": "0247b61c",
      "metadata": {
        "id": "0247b61c"
      },
      "source": [
        "<h5>In this step, we are going to split data in two parts (training and testing), so that we can train our model on training dataset and test its accuracy on unseen (test) data."
      ]
    },
    {
      "cell_type": "code",
      "execution_count": null,
      "id": "729ed24f",
      "metadata": {
        "id": "729ed24f"
      },
      "outputs": [],
      "source": [
        "features_cols = ['pregnant','insulin','bmi','glucose', 'bp','pedigree']\n",
        "#storing pregnant, insulin, bmi, glucose, bp, and pedigree columns in feature_cols variable\n",
        "X = df[features_cols]\n",
        "#storing information from feature_cols in X to split the data\n",
        "y = df.label\n",
        "# label is the outcome class variable(0 ar 1)\n",
        "#storing label data information in Y variable "
      ]
    },
    {
      "cell_type": "code",
      "execution_count": null,
      "id": "4cb9b14b",
      "metadata": {
        "id": "4cb9b14b"
      },
      "outputs": [],
      "source": [
        "X_train, X_test, Y_train, Y_test = train_test_split(X,y,test_size=0.2,random_state=1)\n",
        "# Using train_test_split() from the data science library scikit-learn,\n",
        "# it can split arrays or matrices into random train and test subsets.\n",
        "# random state : train_test_split splits the data randomly, so we should give an intiger as random state.\n",
        "# so that the way of splitting must be same"
      ]
    },
    {
      "cell_type": "code",
      "execution_count": null,
      "id": "9918fd2a",
      "metadata": {
        "id": "9918fd2a"
      },
      "outputs": [],
      "source": [
        "clf = DecisionTreeClassifier(criterion='entropy',max_depth=3)\n",
        "# criterion determines how the impurity of a split will be measured.\n",
        "# The default value is “gini” but you can also use “entropy” as a metric for impurity.\n",
        "# Entropy can be defined as a measure of the purity of the sub split.\n",
        "# max_depth can be described as the length of the longest path from the tree root to a leaf.\n",
        "# if we did not give value for max_depth data will get underfitted and if the depth value is\n",
        "# is hight data ight get over fitted so giving value as 3\n",
        "\n",
        "clf = clf.fit(X_train,Y_train)\n",
        "#fitting a training data in the clf object using fit methos\n",
        "\n",
        "Y_pred = clf.predict(X_test)\n",
        "#Predict the response for test dataset"
      ]
    },
    {
      "cell_type": "code",
      "execution_count": null,
      "id": "3de42eb0",
      "metadata": {
        "id": "3de42eb0",
        "outputId": "91681054-6c55-4a50-af81-749afb173933"
      },
      "outputs": [
        {
          "name": "stdout",
          "output_type": "stream",
          "text": [
            "Accuracy is: 0.5402943237561317\n"
          ]
        }
      ],
      "source": [
        "print(\"Accuracy is:\",metrics.accuracy_score(Y_test,Y_pred))\n",
        "#printing the accuracy"
      ]
    },
    {
      "cell_type": "code",
      "execution_count": null,
      "id": "102d9323",
      "metadata": {
        "id": "102d9323"
      },
      "outputs": [],
      "source": []
    }
  ],
  "metadata": {
    "kernelspec": {
      "display_name": "Python 3 (ipykernel)",
      "language": "python",
      "name": "python3"
    },
    "language_info": {
      "codemirror_mode": {
        "name": "ipython",
        "version": 3
      },
      "file_extension": ".py",
      "mimetype": "text/x-python",
      "name": "python",
      "nbconvert_exporter": "python",
      "pygments_lexer": "ipython3",
      "version": "3.9.7"
    },
    "colab": {
      "provenance": []
    }
  },
  "nbformat": 4,
  "nbformat_minor": 5
}